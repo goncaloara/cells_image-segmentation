{
 "cells": [
  {
   "cell_type": "markdown",
   "metadata": {
    "colab_type": "text"
   },
   "source": [
    "# 2024 LAB 7a Introduction to TensorFlow and Keras (Chollet)"
   ]
  },
  {
   "cell_type": "markdown",
   "metadata": {},
   "source": [
    "# Data representations for neural networks "
   ]
  },
  {
   "cell_type": "markdown",
   "metadata": {},
   "source": [
    "In general, all current machine learning systems use tensors\n",
    "as their basic data structure. Tensors are fundamental to the field—so fundamental\n",
    "that TensorFlow was named after them. \n",
    "\n",
    "**So what’s a tensor?**\n",
    "\n",
    " At its core, a tensor is a container for data—usually numerical data. So, it’s a container for numbers. You may be already familiar with matrices, which are rank-2 tensors: tensors are a generalization of matrices to an arbitrary number of dimensions\n",
    "(note that in the context of tensors, a dimension is often called an axis)."
   ]
  },
  {
   "cell_type": "markdown",
   "metadata": {},
   "source": [
    "**Scalars (rank-0 tensors)**"
   ]
  },
  {
   "cell_type": "markdown",
   "metadata": {},
   "source": [
    "A tensor that contains only one number is called a scalar (or scalar tensor, or rank-0\n",
    "tensor, or 0D tensor). In NumPy, a float32 or float64 number is a scalar tensor (or\n",
    "scalar array). You can display the number of axes of a NumPy tensor via the ndim attribute; a scalar tensor has 0 axes (ndim == 0). The number of axes of a tensor is also\n",
    "called its rank. \n",
    "\n",
    "Here’s a NumPy scalar:"
   ]
  },
  {
   "cell_type": "code",
   "execution_count": null,
   "metadata": {},
   "outputs": [],
   "source": [
    "import numpy as np\n",
    "x = np.array(12)\n",
    "x"
   ]
  },
  {
   "cell_type": "code",
   "execution_count": null,
   "metadata": {},
   "outputs": [],
   "source": [
    "x.ndim "
   ]
  },
  {
   "cell_type": "markdown",
   "metadata": {},
   "source": [
    "**Vectors (rank-1 tensors)**\n",
    "\n",
    "An array of numbers is called a vector, or rank-1 tensor, or 1D tensor. A rank-1 tensor is\n",
    "said to have exactly one axis. Following is a NumPy vector:"
   ]
  },
  {
   "cell_type": "code",
   "execution_count": null,
   "metadata": {},
   "outputs": [],
   "source": [
    "x = np.array([12, 8, 6, 14, 7])\n",
    "x"
   ]
  },
  {
   "cell_type": "code",
   "execution_count": null,
   "metadata": {},
   "outputs": [],
   "source": [
    "x.ndim"
   ]
  },
  {
   "cell_type": "markdown",
   "metadata": {},
   "source": [
    "This vector has five entries and so is called a 5-dimensional vector. Don’t confuse a 5D\n",
    "vector with a 5D tensor! A 5D vector has only one axis and has five dimensions along\n",
    "its axis, whereas a 5D tensor has five axes (and may have any number of dimensions\n",
    "along each axis). Dimensionality can denote either the number of entries along a spe-\n",
    "cific axis (as in the case of our 5D vector) or the number of axes in a tensor (such as a\n",
    "5D tensor), which can be confusing at times. In the latter case, it’s technically more\n",
    "correct to talk about a tensor of rank 5 (the rank of a tensor being the number of axes),\n",
    "but the ambiguous notation 5D tensor is common regardless. "
   ]
  },
  {
   "cell_type": "markdown",
   "metadata": {},
   "source": [
    "**Matrices (rank-2 tensors)**\n",
    "\n",
    "An array of vectors is a matrix, or rank-2 tensor, or 2D tensor. A matrix has two axes\n",
    "(often referred to as rows and columns). You can visually interpret a matrix as a rectan-\n",
    "gular grid of numbers. This is a NumPy matrix:"
   ]
  },
  {
   "cell_type": "code",
   "execution_count": null,
   "metadata": {},
   "outputs": [],
   "source": [
    "x = np.array([[5, 78, 2, 34, 0],\n",
    "                  [6, 79, 3, 35, 1],\n",
    "                  [7, 80, 4, 36, 2]])\n",
    "x"
   ]
  },
  {
   "cell_type": "code",
   "execution_count": null,
   "metadata": {},
   "outputs": [],
   "source": [
    "x.ndim"
   ]
  },
  {
   "cell_type": "markdown",
   "metadata": {},
   "source": [
    "The entries from the first axis are called the rows, and the entries from the second axis\n",
    "are called the columns. In the previous example, [5, 78, 2, 34, 0] is the first row of x,\n",
    "and [5, 6, 7] is the first column. "
   ]
  },
  {
   "cell_type": "markdown",
   "metadata": {},
   "source": [
    "**Rank-3 and higher-rank tensors**\n",
    "\n",
    "If you pack such matrices in a new array, you obtain a rank-3 tensor (or 3D tensor),\n",
    "which you can visually interpret as a cube of numbers. Following is a NumPy rank-3\n",
    "tensor:"
   ]
  },
  {
   "cell_type": "code",
   "execution_count": null,
   "metadata": {},
   "outputs": [],
   "source": [
    "x = np.array([[[5, 78, 2, 34, 0],\n",
    "                   [6, 79, 3, 35, 1],\n",
    "                   [7, 80, 4, 36, 2]],\n",
    "                  [[5, 78, 2, 34, 0],\n",
    "                   [6, 79, 3, 35, 1],\n",
    "                   [7, 80, 4, 36, 2]],\n",
    "                  [[5, 78, 2, 34, 0],\n",
    "                   [6, 79, 3, 35, 1],\n",
    "                   [7, 80, 4, 36, 2]]])\n",
    "x"
   ]
  },
  {
   "cell_type": "code",
   "execution_count": null,
   "metadata": {},
   "outputs": [],
   "source": [
    "x.ndim"
   ]
  },
  {
   "cell_type": "markdown",
   "metadata": {},
   "source": [
    "# Key attributes"
   ]
  },
  {
   "cell_type": "markdown",
   "metadata": {},
   "source": [
    "A tensor is defined by three key attributes:\n",
    "\n",
    "  -  **Number of axes (rank)** — For instance, a rank-3 tensor has three axes, and a matrix\n",
    "has two axes. This is also called the tensor’s ndim in Python libraries such as\n",
    "NumPy or TensorFlow.\n",
    "  -  **Shape** — This is a tuple of integers that describes how many dimensions the tensor has along each axis. For instance, the previous matrix example has shape\n",
    "(3, 5), and the rank-3 tensor example has shape (3, 3, 5). A vector has a shape\n",
    "with a single element, such as (5,), whereas a scalar has an empty shape, ().\n",
    "  - **Data type** (usually called dtype in Python libraries) — This is the type of the data\n",
    "contained in the tensor; for instance, a tensor’s type could be float16, float32,\n",
    "float64, uint8, and so on. In TensorFlow, you are also likely to come across\n",
    "string tensors.\n",
    "\n",
    "\n",
    "To make this more concrete, let’s look back at the data we processed in the MNIST\n",
    "example. First, we load the MNIST dataset:"
   ]
  },
  {
   "cell_type": "code",
   "execution_count": null,
   "metadata": {},
   "outputs": [],
   "source": [
    "from tensorflow.keras.datasets import mnist\n",
    "(train_images, train_labels), (test_images, test_labels) = mnist.load_data()"
   ]
  },
  {
   "cell_type": "markdown",
   "metadata": {},
   "source": [
    "Next, we display the number of axes of the tensor train_images, the ndim attribute,  its shape and its data type"
   ]
  },
  {
   "cell_type": "code",
   "execution_count": null,
   "metadata": {},
   "outputs": [],
   "source": [
    "train_images.ndim "
   ]
  },
  {
   "cell_type": "code",
   "execution_count": null,
   "metadata": {},
   "outputs": [],
   "source": [
    "train_images.shape"
   ]
  },
  {
   "cell_type": "code",
   "execution_count": null,
   "metadata": {},
   "outputs": [],
   "source": [
    "train_images.dtype"
   ]
  },
  {
   "cell_type": "markdown",
   "metadata": {},
   "source": [
    "So what we have here is a rank-3 tensor of 8-bit integers. More precisely, it’s an array of\n",
    "60,000 matrices of 28 × 28 integers. Each such matrix is a grayscale image, with coefficients between 0 and 255.\n",
    "\n",
    "Let’s display the fourth digit in this rank-3 tensor, using the Matplotlib library (a\n",
    "well-known Python data visualization library, which comes preinstalled in Colab)"
   ]
  },
  {
   "cell_type": "code",
   "execution_count": null,
   "metadata": {},
   "outputs": [],
   "source": [
    "import matplotlib.pyplot as plt\n",
    "digit = train_images[420]\n",
    "plt.imshow(digit, cmap=plt.cm.binary)\n",
    "plt.show()"
   ]
  },
  {
   "cell_type": "code",
   "execution_count": null,
   "metadata": {},
   "outputs": [],
   "source": [
    "# Naturally, the corresponding label is the integer 9:\n",
    "train_labels[420] "
   ]
  },
  {
   "cell_type": "markdown",
   "metadata": {},
   "source": [
    "# Manipulating tensors in NumPy"
   ]
  },
  {
   "cell_type": "markdown",
   "metadata": {},
   "source": [
    "In the previous example, we selected a specific digit alongside the first axis using the\n",
    "syntax train_images[i]. Selecting specific elements in a tensor is called tensor slicing.\n",
    "Let’s look at the tensor-slicing operations you can do on NumPy arrays.\n",
    "\n",
    "The following example selects digits #10 to #100 (#100 isn’t included) and puts\n",
    "them in an array of shape (90, 28, 28):"
   ]
  },
  {
   "cell_type": "code",
   "execution_count": null,
   "metadata": {},
   "outputs": [],
   "source": [
    "my_slice = train_images[10:100]\n",
    "my_slice.shape"
   ]
  },
  {
   "cell_type": "markdown",
   "metadata": {},
   "source": [
    "In general, you may select slices between any two indices along each tensor axis. For\n",
    "instance, in order to select 14 × 14 pixels in the bottom-right corner of all images, you\n",
    "would do this:"
   ]
  },
  {
   "cell_type": "code",
   "execution_count": null,
   "metadata": {},
   "outputs": [],
   "source": [
    "my_slice = train_images[:, 14:28, 14:28] \n",
    "my_slice.shape"
   ]
  },
  {
   "cell_type": "markdown",
   "metadata": {},
   "source": [
    "**The notion of data batches**\n",
    "\n",
    "In general, the first axis (axis 0, because indexing starts at 0) in all data tensors you’ll\n",
    "come across in deep learning will be the samples axis (sometimes called the samples\n",
    "dimension). In the MNIST example, “samples” are images of digits.\n",
    "\n",
    "In addition, deep learning models don’t process an entire dataset at once; rather,\n",
    "they break the data into small batches. Concretely, here’s one batch of our MNIST\n",
    "digits, with a batch size of 128:"
   ]
  },
  {
   "cell_type": "code",
   "execution_count": null,
   "metadata": {},
   "outputs": [],
   "source": [
    "batch = train_images[:128]\n",
    "batch.shape"
   ]
  },
  {
   "cell_type": "markdown",
   "metadata": {},
   "source": [
    "And here’s the next batch:"
   ]
  },
  {
   "cell_type": "code",
   "execution_count": null,
   "metadata": {},
   "outputs": [],
   "source": [
    "batch = train_images[128:256]\n",
    "batch.shape"
   ]
  },
  {
   "cell_type": "markdown",
   "metadata": {},
   "source": [
    "And the nth batch:"
   ]
  },
  {
   "cell_type": "code",
   "execution_count": null,
   "metadata": {},
   "outputs": [],
   "source": [
    "n = 3 \n",
    "batch = train_images[128 * n:128 * (n + 1)]\n",
    "batch.shape"
   ]
  },
  {
   "cell_type": "markdown",
   "metadata": {},
   "source": [
    "When considering such a batch tensor, the first axis (axis 0) is called the batch axis or\n",
    "batch dimension. This is a term you’ll frequently encounter when using Keras and other\n",
    "deep learning libraries."
   ]
  },
  {
   "cell_type": "markdown",
   "metadata": {},
   "source": [
    "# Real-world examples of data tensors"
   ]
  },
  {
   "attachments": {
    "chollet23.png": {
     "image/png": "[encoded data removed]"
    }
   },
   "cell_type": "markdown",
   "metadata": {},
   "source": [
    "Let’s make data tensors more concrete with a few examples similar to what you’ll\n",
    "encounter later. The data you’ll manipulate will almost always fall into one of the following categories:\n",
    "  - **Vector data** — Rank-2 tensors of shape (samples, features), where each sample\n",
    "is a vector of numerical attributes (“features”)\n",
    "  - **Timeseries data** or sequence data—Rank-3 tensors of shape (samples, timesteps,\n",
    "features), where each sample is a sequence (of length timesteps) of feature\n",
    "vectors\n",
    "  - **Images** — Rank-4 tensors of shape (samples, height, width, channels), where\n",
    "each sample is a 2D grid of pixels, and each pixel is represented by a vector of\n",
    "values (“channels”)\n",
    "  - **Video** — Rank-5 tensors of shape (samples, frames, height, width, channels),\n",
    "where each sample is a sequence (of length frames) of images \n",
    "\n",
    "**1. Vector data**\n",
    "\n",
    "This is one of the most common cases. In such a dataset, each single data point can be\n",
    "encoded as a vector, and thus a batch of data will be encoded as a rank-2 tensor (that\n",
    "is, an array of vectors), where the first axis is the samples axis and the second axis is the\n",
    "features axis.\n",
    "\n",
    "Let’s take a look at two examples:\n",
    "  - An actuarial dataset of people, where we consider each person’s age, gender,\n",
    "and income. Each person can be characterized as a vector of 3 values, and thus\n",
    "an entire dataset of 100,000 people can be stored in a rank-2 tensor of shape\n",
    "(100000, 3).\n",
    "  - A dataset of text documents, where we represent each document by the counts\n",
    "of how many times each word appears in it (out of a dictionary of 20,000 common words). Each document can be encoded as a vector of 20,000 values (one\n",
    "count per word in the dictionary), and thus an entire dataset of 500 documents\n",
    "can be stored in a tensor of shape (500, 20000). \n",
    "\n",
    "**2. Timeseries data or sequence data**\n",
    "\n",
    "Whenever time matters in your data (or the notion of sequence order), it makes sense\n",
    "to store it in a rank-3 tensor with an explicit time axis. Each sample can be encoded as\n",
    "a sequence of vectors (a rank-2 tensor), and thus a batch of data will be encoded as a\n",
    "rank-3 tensor\n",
    "\n",
    "![chollet23.png](attachment:chollet23.png)\n",
    "\n",
    "The time axis is always the second axis (axis of index 1) by convention. Let’s look at a\n",
    "few examples:\n",
    "\n",
    "  - A dataset of stock prices. Every minute, we store the current price of the stock,\n",
    "the highest price in the past minute, and the lowest price in the past minute.\n",
    "Thus, every minute is encoded as a 3D vector, an entire day of trading is\n",
    "encoded as a matrix of shape (390, 3) (there are 390 minutes in a trading day),\n",
    "and 250 days’ worth of data can be stored in a rank-3 tensor of shape (250,\n",
    "390, 3). Here, each sample would be one day’s worth of data.\n",
    "  - A dataset of tweets, where we encode each tweet as a sequence of 280 characters\n",
    "out of an alphabet of 128 unique characters. In this setting, each character can\n",
    "be encoded as a binary vector of size 128 (an all-zeros vector except for a 1 entry\n",
    "at the index corresponding to the character). Then each tweet can be encoded\n",
    "as a rank-2 tensor of shape (280, 128), and a dataset of 1 million tweets can be\n",
    "stored in a tensor of shape (1000000, 280, 128). "
   ]
  },
  {
   "attachments": {
    "chollet24.png": {
     "image/png": "[encoded data removed]"
    }
   },
   "cell_type": "markdown",
   "metadata": {},
   "source": [
    "**3. Image data**\n",
    "\n",
    "Images typically have three dimensions: height, width, and color depth. Although\n",
    "grayscale images (like our MNIST digits) have only a single color channel and could\n",
    "thus be stored in rank-2 tensors, by convention image tensors are always rank-3, with a\n",
    "one-dimensional color channel for grayscale images. A batch of 128 grayscale images\n",
    "of size 256 × 256 could thus be stored in a tensor of shape (128, 256, 256, 1), and a\n",
    "batch of 128 color images could be stored in a tensor of shape (128, 256, 256, 3).\n",
    "\n",
    "![chollet24.png](attachment:chollet24.png)\n",
    "\n",
    "There are two conventions for shapes of image tensors: the channels-last convention\n",
    "(which is standard in TensorFlow) and the channels-first convention (which is increasingly falling out of favor).\n",
    "\n",
    "The channels-last convention places the color-depth axis at the end: (samples,\n",
    "height, width, color_depth). Meanwhile, the channels-first convention places the\n",
    "color depth axis right after the batch axis: (samples, color_depth, height, width).\n",
    "With the channels-first convention, the previous examples would become (128, 1,\n",
    "256, 256) and (128, 3, 256, 256). The Keras API provides support for both formats. \n",
    "\n",
    "**4. Video data**\n",
    "\n",
    "Video data is one of the few types of real-world data for which you’ll need rank-5 ten-\n",
    "sors. A video can be understood as a sequence of frames, each frame being a color\n",
    "image. Because each frame can be stored in a rank-3 tensor (height, width, color_depth), a sequence of frames can be stored in a rank-4 tensor (frames, height,\n",
    "width, color_depth), and thus a batch of different videos can be stored in a rank-5\n",
    "tensor of shape (samples, frames, height, width, color_depth).\n",
    " \n",
    " \n",
    " For instance, a 60-second, 144 × 256 YouTube video clip sampled at 4 frames per\n",
    "second would have 240 frames. A batch of four such video clips would be stored in a\n",
    "tensor of shape (4, 240, 144, 256, 3). That’s a total of 106,168,320 values! If the dtype of the tensor was float32, each value would be stored in 32 bits, so the tensor\n",
    "would represent 405 MB. Heavy! Videos you encounter in real life are much lighter,\n",
    "because they aren’t stored in float32, and they’re typically compressed by a large fac-\n",
    "tor (such as in the MPEG format)."
   ]
  },
  {
   "cell_type": "markdown",
   "metadata": {},
   "source": [
    "# Introduction to TensorFlow and Keras"
   ]
  },
  {
   "attachments": {
    "chollet31.png": {
     "image/png": "[encoded data removed]"
    }
   },
   "cell_type": "markdown",
   "metadata": {},
   "source": [
    "Quick presentation of Keras (https://keras.io) and TensorFlow (https://tensorflow.org). TensorFlow is a Python-based, free, open source machine learning platform, developed primarily by Google. Keras is a deep learning API (Application Programming Interface) for Python, built on top of TensorFlow, that provides a convenient way to define and train any kind of deep learning model.\n",
    "\n",
    "![chollet31.png](attachment:chollet31.png)\n",
    "\n",
    "Keras is used at Google, Netflix, Uber, CERN, NASA, Yelp,\n",
    "Instacart, Square, and hundreds of startups working on a wide range of problems\n",
    "across every industry. Your YouTube recommendations originate from Keras models."
   ]
  },
  {
   "attachments": {
    "chollet19.png": {
     "image/png": "[encoded data removed]"
    }
   },
   "cell_type": "markdown",
   "metadata": {},
   "source": [
    "# First steps with TensorFlow\n",
    "\n",
    "As we will see, training a neural network revolves around the following concepts:\n",
    "\n",
    "  - First, low-level tensor manipulation — the infrastructure that underlies all modern machine learning. This translates to TensorFlow APIs:\n",
    "    - Tensors, including special tensors that store the network’s state (variables)\n",
    "    - Tensor operations such as addition, relu, matmul\n",
    "    - Backpropagation, a way to compute the gradient of mathematical expressions\n",
    "(handled in TensorFlow via the GradientTape object).\n",
    "\n",
    "  - Second, high-level deep learning concepts. This translates to Keras APIs:\n",
    "    - Layers, which are combined into a model\n",
    "    - A loss function, which defines the feedback signal used for learning\n",
    "    - An optimizer, which determines how learning proceeds\n",
    "    - Metrics to evaluate model performance, such as accuracy\n",
    "    - A training loop that performs mini-batch stochastic gradient descent\n",
    "    \n",
    "    ![chollet19.png](attachment:chollet19.png)"
   ]
  },
  {
   "cell_type": "markdown",
   "metadata": {},
   "source": [
    "# Constant tensors and variables"
   ]
  },
  {
   "cell_type": "markdown",
   "metadata": {},
   "source": [
    "To do anything in TensorFlow, we’re going to need some tensors. Tensors need to be\n",
    "created with some initial value. For instance, you could create all-ones or all-zeros tensors, or tensors of values drawn from a random distribution. Let us see examples"
   ]
  },
  {
   "cell_type": "code",
   "execution_count": null,
   "metadata": {},
   "outputs": [],
   "source": [
    "import tensorflow as tf\n",
    "import numpy as np"
   ]
  },
  {
   "cell_type": "code",
   "execution_count": null,
   "metadata": {
    "colab_type": "code"
   },
   "outputs": [],
   "source": [
    "x = tf.ones(shape=(2, 1)) # Equivalent to np.ones(shape=(2, 1))\n",
    "print(x)"
   ]
  },
  {
   "cell_type": "code",
   "execution_count": null,
   "metadata": {
    "colab_type": "code"
   },
   "outputs": [],
   "source": [
    "x = tf.zeros(shape=(2, 1))  # Equivalent to np.zeros(shape=(2, 1))\n",
    "print(x)"
   ]
  },
  {
   "cell_type": "markdown",
   "metadata": {
    "colab_type": "text"
   },
   "source": [
    "**Random tensors**"
   ]
  },
  {
   "cell_type": "code",
   "execution_count": null,
   "metadata": {
    "colab_type": "code"
   },
   "outputs": [],
   "source": [
    "x = tf.random.normal(shape=(3, 1), mean=0., stddev=1.)\n",
    "print(x)"
   ]
  },
  {
   "cell_type": "code",
   "execution_count": null,
   "metadata": {
    "colab_type": "code"
   },
   "outputs": [],
   "source": [
    "x = tf.random.uniform(shape=(3, 1), minval=0., maxval=1.)\n",
    "print(x)"
   ]
  },
  {
   "cell_type": "markdown",
   "metadata": {},
   "source": [
    "To train a model, we’ll need to update its state, which is a set of tensors. If tensors\n",
    "are constant (aren’t assignable), how do we do it? That’s where variables come in. tf.Variable is the\n",
    "class meant to manage modifiable state in TensorFlow. To create a variable, you need to provide some initial value, such as a random tensor."
   ]
  },
  {
   "cell_type": "markdown",
   "metadata": {
    "colab_type": "text"
   },
   "source": [
    "**Creating a TensorFlow variable**"
   ]
  },
  {
   "cell_type": "code",
   "execution_count": null,
   "metadata": {
    "colab_type": "code"
   },
   "outputs": [],
   "source": [
    "v = tf.Variable(initial_value=tf.random.normal(shape=(3, 1)))\n",
    "print(v)"
   ]
  },
  {
   "cell_type": "markdown",
   "metadata": {
    "colab_type": "text"
   },
   "source": [
    "The state of a variable can be modified via its assign method, as follows.\n",
    "\n",
    "**Assigning a value to a TensorFlow variable**"
   ]
  },
  {
   "cell_type": "code",
   "execution_count": null,
   "metadata": {
    "colab_type": "code"
   },
   "outputs": [],
   "source": [
    "v.assign(tf.ones((3, 1)))"
   ]
  },
  {
   "cell_type": "markdown",
   "metadata": {
    "colab_type": "text"
   },
   "source": [
    "It also works for a subset of the coefficients.\n",
    "\n",
    "**Assigning a value to a subset of a TensorFlow variable**"
   ]
  },
  {
   "cell_type": "code",
   "execution_count": null,
   "metadata": {
    "colab_type": "code"
   },
   "outputs": [],
   "source": [
    "v[0, 0].assign(3.)"
   ]
  },
  {
   "cell_type": "markdown",
   "metadata": {
    "colab_type": "text"
   },
   "source": [
    "Similarly, assign_add() and assign_sub() are efficient equivalents of += and -=, as\n",
    "shown next. \n",
    "\n",
    "**Using `assign_add`**"
   ]
  },
  {
   "cell_type": "code",
   "execution_count": null,
   "metadata": {
    "colab_type": "code"
   },
   "outputs": [],
   "source": [
    "v.assign_add(tf.ones((3, 1)))"
   ]
  },
  {
   "cell_type": "markdown",
   "metadata": {
    "colab_type": "text"
   },
   "source": [
    "# Tensor operations: Doing math in TensorFlow"
   ]
  },
  {
   "cell_type": "markdown",
   "metadata": {
    "colab_type": "text"
   },
   "source": [
    "**A few basic math operations**"
   ]
  },
  {
   "cell_type": "code",
   "execution_count": null,
   "metadata": {
    "colab_type": "code"
   },
   "outputs": [],
   "source": [
    "a = tf.ones((2, 2))\n",
    "b = tf.square(a) #Take the square.\n",
    "c = tf.sqrt(a)  #Take the square root.\n",
    "d = b + c\n",
    "e = tf.matmul(a, b) #Take the product of two tensors \n",
    "e *= d  #Multiply two tensors (element-wise).\n",
    "print(a)\n",
    "print(b)\n",
    "print(c)\n",
    "print(d)\n",
    "print(e)"
   ]
  },
  {
   "cell_type": "markdown",
   "metadata": {
    "colab_type": "text"
   },
   "source": [
    "# An end-to-end example: A linear classifier in pure TensorFlow\n",
    "\n",
    "You know about tensors, variables, and tensor operations, and you know how to compute gradients. That’s enough to build any machine learning model based on gradient descent.  \n",
    "Let us implement a linear classifier from scratch in TensorFlow.\n",
    "\n",
    "First, let’s come up with some nicely linearly separable synthetic data to work with:\n",
    "\n",
    "two classes of points in a 2D plane. We’ll generate each class of points by drawing their coordinates from a random distribution with a specific covariance matrix and a specific mean. Intuitively, the covariance matrix describes the shape of the point cloud,\n",
    "and the mean describes its position in the plane (see figure below). We’ll reuse the same\n",
    "covariance matrix for both point clouds, but we’ll use two different mean values—the point clouds will have the same shape, but different positions."
   ]
  },
  {
   "cell_type": "markdown",
   "metadata": {
    "colab_type": "text"
   },
   "source": [
    "**Generating two classes of random points in a 2D plane**"
   ]
  },
  {
   "cell_type": "code",
   "execution_count": null,
   "metadata": {
    "colab_type": "code"
   },
   "outputs": [],
   "source": [
    "import tensorflow as tf\n",
    "import numpy as np\n",
    "\n",
    "num_samples_per_class = 1000\n",
    "negative_samples = np.random.multivariate_normal(\n",
    "    mean=[0, 3],\n",
    "    cov=[[1, 0.5],[0.5, 1]],\n",
    "    size=num_samples_per_class)\n",
    "positive_samples = np.random.multivariate_normal(\n",
    "    mean=[3, 0],\n",
    "    cov=[[1, 0.5],[0.5, 1]],\n",
    "    size=num_samples_per_class)"
   ]
  },
  {
   "cell_type": "markdown",
   "metadata": {},
   "source": [
    "Generate the first class of points: 1000 random 2D points. cov=[[1, \n",
    "0.5],[0.5, 1]] corresponds to an oval-like point cloud oriented \n",
    "from bottom left to top right.\n",
    "Generate the other class of \n",
    "points with a different mean and \n",
    "the same covariance matrix.\n",
    "\n",
    "In the preceding code, negative_samples and positive_samples are both arrays\n",
    "with shape (1000, 2). Let’s stack them into a single array with shape (2000, 2)."
   ]
  },
  {
   "cell_type": "markdown",
   "metadata": {
    "colab_type": "text"
   },
   "source": [
    "**Stacking the two classes into an array with shape (2000, 2)**"
   ]
  },
  {
   "cell_type": "code",
   "execution_count": null,
   "metadata": {
    "colab_type": "code"
   },
   "outputs": [],
   "source": [
    "inputs = np.vstack((negative_samples, positive_samples)).astype(np.float32)"
   ]
  },
  {
   "cell_type": "markdown",
   "metadata": {
    "colab_type": "text"
   },
   "source": [
    "**Generating the corresponding targets (0 and 1)**"
   ]
  },
  {
   "cell_type": "code",
   "execution_count": null,
   "metadata": {
    "colab_type": "code"
   },
   "outputs": [],
   "source": [
    "targets = np.vstack((np.zeros((num_samples_per_class, 1), dtype=\"float32\"),\n",
    "                     np.ones((num_samples_per_class, 1), dtype=\"float32\")))"
   ]
  },
  {
   "cell_type": "markdown",
   "metadata": {
    "colab_type": "text"
   },
   "source": [
    "**Plotting the two point classes**"
   ]
  },
  {
   "cell_type": "code",
   "execution_count": null,
   "metadata": {
    "colab_type": "code"
   },
   "outputs": [],
   "source": [
    "import matplotlib.pyplot as plt\n",
    "plt.scatter(inputs[:, 0], inputs[:, 1], c=targets[:, 0])\n",
    "plt.show()"
   ]
  },
  {
   "cell_type": "markdown",
   "metadata": {
    "colab_type": "text"
   },
   "source": [
    "**Creating the linear classifier variables**\n",
    "\n",
    "Now let’s create a linear classifier that can learn to separate these two blobs. A linear\n",
    "classifier is an affine transformation (prediction = W • input + b) trained to minimize\n",
    "the square of the difference between predictions and the targets.\n",
    " As you’ll see, it’s actually a much simpler example than the end-to-end example of\n",
    "a toy two-layer neural network. However, this time you\n",
    "should be able to understand everything about the code, line by line.\n",
    " Let’s create our variables, W and b, initialized with random values and with zeros,\n",
    "respectively."
   ]
  },
  {
   "cell_type": "code",
   "execution_count": null,
   "metadata": {
    "colab_type": "code"
   },
   "outputs": [],
   "source": [
    "input_dim = 2     # The inputs will be 2D points\n",
    "output_dim = 1    # The output predictions will be a single score per sample (close to 0 if the sample is predicted to be in class 0, \n",
    "                  # and close to 1 if the sample is predicted to be in class 1).\n",
    "W = tf.Variable(initial_value=tf.random.uniform(shape=(input_dim, output_dim)))\n",
    "b = tf.Variable(initial_value=tf.zeros(shape=(output_dim,)))"
   ]
  },
  {
   "cell_type": "markdown",
   "metadata": {},
   "source": [
    "Here’s our forward pass function."
   ]
  },
  {
   "cell_type": "markdown",
   "metadata": {
    "colab_type": "text"
   },
   "source": [
    "**The forward pass function**"
   ]
  },
  {
   "cell_type": "code",
   "execution_count": null,
   "metadata": {
    "colab_type": "code"
   },
   "outputs": [],
   "source": [
    "def model(inputs):\n",
    "    return tf.matmul(inputs, W) + b"
   ]
  },
  {
   "cell_type": "markdown",
   "metadata": {},
   "source": [
    "Because our linear classifier operates on 2D inputs, W is really just two scalar coefficients, w1 and w2: W = [[w1], [w2]]. Meanwhile, b is a single scalar coefficient. As such,\n",
    "for a given input point [x, y], its prediction value is prediction = [[w1], [w2]] • [x,\n",
    "y] + b = w1 * x + w2 * y + b."
   ]
  },
  {
   "cell_type": "markdown",
   "metadata": {
    "colab_type": "text"
   },
   "source": [
    "**The mean squared error loss function**"
   ]
  },
  {
   "cell_type": "code",
   "execution_count": null,
   "metadata": {
    "colab_type": "code"
   },
   "outputs": [],
   "source": [
    "def square_loss(targets, predictions):\n",
    "    per_sample_losses = tf.square(targets - predictions)  \n",
    "    return tf.reduce_mean(per_sample_losses)"
   ]
  },
  {
   "cell_type": "markdown",
   "metadata": {},
   "source": [
    "  - per_sample_losses will be a tensor with the same shape as\n",
    "targets and predictions, containing per-sample loss scores.\n",
    "  - We need to average these per-sample loss scores into a\n",
    "single scalar loss value: this is what reduce_mean does.\n",
    "\n",
    "Next is the training step, which receives some training data and updates the weights W\n",
    "and b so as to minimize the loss on the data."
   ]
  },
  {
   "cell_type": "markdown",
   "metadata": {
    "colab_type": "text"
   },
   "source": [
    "**The training step function**"
   ]
  },
  {
   "cell_type": "code",
   "execution_count": null,
   "metadata": {
    "colab_type": "code"
   },
   "outputs": [],
   "source": [
    "learning_rate = 0.1\n",
    "\n",
    "def training_step(inputs, targets):\n",
    "    with tf.GradientTape() as tape:\n",
    "        predictions = model(inputs)\n",
    "        loss = square_loss(predictions, targets)\n",
    "    grad_loss_wrt_W, grad_loss_wrt_b = tape.gradient(loss, [W, b])\n",
    "    W.assign_sub(grad_loss_wrt_W * learning_rate)\n",
    "    b.assign_sub(grad_loss_wrt_b * learning_rate)\n",
    "    return loss"
   ]
  },
  {
   "cell_type": "markdown",
   "metadata": {},
   "source": [
    "For simplicity, we’ll do batch training instead of mini-batch training: we’ll run each training\n",
    "step (gradient computation and weight update) for all the data, rather than iterate over\n",
    "the data in small batches. On one hand, this means that each training step will take\n",
    "much longer to run, since we’ll compute the forward pass and the gradients for 2,000\n",
    "samples at once. On the other hand, each gradient update will be much more effective\n",
    "at reducing the loss on the training data, since it will encompass information from all\n",
    "training samples instead of, say, only 128 random samples. As a result, we will need many\n",
    "fewer steps of training, and we should use a larger learning rate than we would typically\n",
    "use for mini-batch training (we’ll use learning_rate = 0.1, defined before)."
   ]
  },
  {
   "cell_type": "markdown",
   "metadata": {
    "colab_type": "text"
   },
   "source": [
    "**The batch training loop**"
   ]
  },
  {
   "cell_type": "code",
   "execution_count": null,
   "metadata": {
    "colab_type": "code"
   },
   "outputs": [],
   "source": [
    "for step in range(40):\n",
    "    loss = training_step(inputs, targets)\n",
    "    print(f\"Loss at step {step}: {loss:.4f}\")"
   ]
  },
  {
   "cell_type": "markdown",
   "metadata": {},
   "source": [
    "After 40 steps, the training loss seems to have stabilized around 0.025. Let’s plot how\n",
    "our linear model classifies the training data points. Because our targets are zeros and\n",
    "ones, a given input point will be classified as “0” if its prediction value is below 0.5, and\n",
    "as “1” if it is above 0.5 (see figure below):"
   ]
  },
  {
   "cell_type": "code",
   "execution_count": null,
   "metadata": {
    "colab_type": "code"
   },
   "outputs": [],
   "source": [
    "predictions = model(inputs)\n",
    "plt.scatter(inputs[:, 0], inputs[:, 1], c=predictions[:, 0] > 0.5)\n",
    "plt.show()"
   ]
  },
  {
   "cell_type": "markdown",
   "metadata": {},
   "source": [
    "Recall that the prediction value for a given point [x, y] is simply prediction ==\n",
    "[[w1], [w2]] • [x, y] + b == w1 * x + w2 * y + b. Thus, class 0 is defined as w1 * x + w2 * y + b < 0.5, and class 1 is defined as w1 * x + w2 * y + b > 0.5. You’ll notice that what\n",
    "you’re looking at is really the equation of a line in the 2D plane: w1 * x + w2 * y + b = 0.5.\n",
    "Above the line is class 1, and below the line is class 0. You may be used to seeing line\n",
    "equations in the format y = a * x + b; in the same format, our line becomes y = - w1 / w2 * x + (0.5 - b) / w2.\n",
    " Let’s plot this line (shown in figure below):"
   ]
  },
  {
   "cell_type": "code",
   "execution_count": null,
   "metadata": {
    "colab_type": "code"
   },
   "outputs": [],
   "source": [
    "x = np.linspace(-1, 4, 100)\n",
    "y = - W[0] /  W[1] * x + (0.5 - b) / W[1]\n",
    "plt.plot(x, y, \"-r\")\n",
    "plt.scatter(inputs[:, 0], inputs[:, 1], c=predictions[:, 0] > 0.5)"
   ]
  },
  {
   "cell_type": "markdown",
   "metadata": {},
   "source": [
    "The firs line generate 100 regularly spaced numbers between –1 and 4, which\n",
    "we will use to plot our line. Plot our line (\"-r\" means “plot it as a red line”). The last line plots our model’s predictions on the same plot."
   ]
  },
  {
   "cell_type": "code",
   "execution_count": null,
   "metadata": {},
   "outputs": [],
   "source": []
  }
 ],
 "metadata": {
  "colab": {
   "collapsed_sections": [],
   "name": "chapter03_introduction-to-keras-and-tf.i",
   "private_outputs": false,
   "provenance": [],
   "toc_visible": true
  },
  "kernelspec": {
   "display_name": "Python 3 (ipykernel)",
   "language": "python",
   "name": "python3"
  },
  "language_info": {
   "codemirror_mode": {
    "name": "ipython",
    "version": 3
   },
   "file_extension": ".py",
   "mimetype": "text/x-python",
   "name": "python",
   "nbconvert_exporter": "python",
   "pygments_lexer": "ipython3",
   "version": "3.9.13"
  }
 },
 "nbformat": 4,
 "nbformat_minor": 1
}
